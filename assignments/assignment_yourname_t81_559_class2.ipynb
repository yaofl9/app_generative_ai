{
  "cells": [
    {
      "cell_type": "markdown",
      "metadata": {
        "id": "NAmA6TjeUzJD"
      },
      "source": [
        "<a href=\"https://colab.research.google.com/github/jeffheaton/app_generative_ai/blob/main/assignments/assignment_yourname_t81_559_class2.ipynb\" target=\"_parent\"><img src=\"https://colab.research.google.com/assets/colab-badge.svg\" alt=\"Open In Colab\"/></a>"
      ]
    },
    {
      "cell_type": "markdown",
      "metadata": {
        "id": "rMtCUtXxZ3ts"
      },
      "source": [
        "# T81-559: Applications of Generative AI\n",
        "* Instructor: [Jeff Heaton](https://sites.wustl.edu/jeffheaton/), McKelvey School of Engineering, [Washington University in St. Louis](https://engineering.wustl.edu/index.html)\n",
        "* For more information visit the [class website](https://sites.wustl.edu/jeffheaton/).\n",
        "\n",
        "**Module 2 Assignment: Code Generation**\n",
        "\n",
        "**Student Name: Your Name**"
      ]
    },
    {
      "cell_type": "markdown",
      "metadata": {
        "id": "s_t8eej3Z3tu"
      },
      "source": [
        "# Assignment Instructions\n",
        "\n",
        "Develop a prompt that will generate an image similar to this one. Your image does not need to look exactly like this one, but important detals, such as the colors, counts, and positions of items are required.  Make sure to also include the prompt as a Python comment string, such as:\n",
        "\n",
        "\"\"\"Prompt: Please write python code to do this.....\"\"\"\n",
        "\n",
        "![Assignment 2](https://s3.amazonaws.com/data.heatonresearch.com/images/wustl/app_genai/assignments/t81_559_assignment_2.jpg)\n",
        "\n",
        "The submit function accepts a PIL image, so it is suggested you use the PIL image library. The idea here is not for you to learn to write Python image rendering, but to have a prompt do the work for you."
      ]
    },
    {
      "cell_type": "markdown",
      "metadata": {
        "id": "vT-h8-JIbVg0"
      },
      "source": [
        "# Google CoLab Instructions\n",
        "\n",
        "If you are using Google CoLab, it will be necessary to mount your GDrive so that you can send your notebook during the submit process.  Running the following code will map your GDrive to ```/content/drive```."
      ]
    },
    {
      "cell_type": "code",
      "execution_count": 1,
      "metadata": {
        "colab": {
          "base_uri": "https://localhost:8080/"
        },
        "id": "VDWQvbmRaLLD",
        "outputId": "0959584a-e4bd-47c8-ad44-52307da11fca"
      },
      "outputs": [
        {
          "output_type": "stream",
          "name": "stdout",
          "text": [
            "Note: not using Google CoLab\n"
          ]
        }
      ],
      "source": [
        "try:\n",
        "  from google.colab import drive, userdata\n",
        "  drive.mount('/content/drive', force_remount=True)\n",
        "  COLAB = True\n",
        "  print(\"Note: using Google CoLab\")\n",
        "except:\n",
        "  print(\"Note: not using Google CoLab\")\n",
        "  COLAB = False\n",
        "\n",
        "# Assignment Submission Key - Was sent you first week of class.\n",
        "# If you are in both classes, this is the same key.\n",
        "if COLAB:\n",
        "  # For Colab, add to your \"Secrets\" (key icon at the left)\n",
        "  key = userdata.get('T81_559_KEY')\n",
        "else:\n",
        "  # If not colab, enter your key here, or use an environment variable.\n",
        "  # (this is only an example key, use yours)\n",
        "  key = \"Gx5en9cEVvaZnjhdaushddhuhhO4PsI32sgldAXj\""
      ]
    },
    {
      "cell_type": "markdown",
      "metadata": {
        "id": "RoVl2DQdUzJF"
      },
      "source": [
        "If you are running this notebook with CoLab, the following command will show you your notebooks. You will need to know the location of your notebook when you submit your assignment."
      ]
    },
    {
      "cell_type": "code",
      "execution_count": null,
      "metadata": {
        "colab": {
          "base_uri": "https://localhost:8080/"
        },
        "id": "fgb13NXeaif2",
        "outputId": "ebf61554-d2f1-40a1-ea83-d504b94b9664"
      },
      "outputs": [
        {
          "name": "stdout",
          "output_type": "stream",
          "text": [
            " amortization.ipynb\t\t\t\t'Copy of t81_559_class_07_2_tools (1).ipynb'\n",
            " animate_graph.ipynb\t\t\t\t'Copy of t81_559_class_07_2_tools.ipynb'\n",
            "'assignment_jheaton_class1 (1).ipynb'\t\t'Copy of t81_559_class_07_5_custom_agent.ipynb'\n",
            " assignment_jheaton_class1.ipynb\t\t'd (1).nuojia-2.ipynb'\n",
            " assignment_jiaxiang_class1.ipynb\t\t d.nuojia-2.ipynb\n",
            "'assignment_solution_class10 (1).ipynb'\t\t d.nuojia-3.ipynb\n",
            "'assignment_solution_class10 (2).ipynb'\t\t facial-82.ipynb\n",
            " assignment_solution_class10_huh.ipynb\t\t faqi-2.ipynb\n",
            " assignment_solution_class10.ipynb\t\t fix_t81_559_class_06_4_qa.ipynb\n",
            " assignment_solution_class1.ipynb\t\t fix_t81_559_class_07_5_custom_agent.ipynb\n",
            "'assignment_solution_class2 (1).ipynb'\t\t get_api_key.ipynb\n",
            " assignment_solution_class2.ipynb\t\t grade_ice.ipynb\n",
            " assignment_solution_class3.ipynb\t\t jeff_grading.ipynb\n",
            "'assignment_solution_class4 (1).ipynb'\t\t jiaxiang.zou-3.ipynb\n",
            " assignment_solution_class4.ipynb\t\t jiaxiang.zou-4.ipynb\n",
            "'assignment_solution_class5 (1).ipynb'\t\t jtheaton-1.ipynb\n",
            " assignment_solution_class5.ipynb\t\t liu.zhao-2.ipynb\n",
            "'assignment_solution_class6 (1).ipynb'\t\t l.zhiyu-5.ipynb\n",
            "'assignment_solution_class6 (2).ipynb'\t\t'ongoing kaggle.ipynb'\n",
            " assignment_solution_class6.ipynb\t\t prophet_sp500.ipynb\n",
            "'assignment_solution_class7 (1).ipynb'\t\t retire.ipynb\n",
            "'assignment_solution_class7 (2).ipynb'\t\t rsi.ipynb\n",
            " assignment_solution_class7.ipynb\t\t t81_558_class_03_3_feature_encode.ipynb\n",
            "'assignment_solution_class8 (1).ipynb'\t\t t81_558_grading.ipynb\n",
            "'assignment_solution_class8 (2).ipynb'\t\t t81_559_class_03_5_book.ipynb\n",
            " assignment_solution_class8.ipynb\t\t t81_559_class_05_4_custom_parsers.ipynb\n",
            "'assignment_solution_class9 (1).ipynb'\t\t t81_559_class_05_5_output_fixing_parsers.ipynb\n",
            "'assignment_solution_class9 (2).ipynb'\t\t t81_559_class_09_2_dalle.ipynb\n",
            "'assignment_solution_class9 (3).ipynb'\t\t t81_559_class_09_3_dalle_existing.ipynb\n",
            " assignment_solution_class9.ipynb\t\t t81_559_class_09_4_multimodal.ipynb\n",
            " assignment_solution_t81_558_class10.ipynb\t t81_559_class_09_5_illustrated_book.ipynb\n",
            "'assignment_solution_t81_558_class1 (1).ipynb'\t t81_559_class_10_1_streamlit.ipynb\n",
            " assignment_solution_t81_558_class1.ipynb\t t81_559_class_10_2_streamlit_intro.ipynb\n",
            " assignment_solution_t81_558_class2.ipynb\t t81_559_class_10_3_streamlit_state.ipynb\n",
            " assignment_solution_t81_558_class3.ipynb\t t81_559_class_10_4_chat.ipynb\n",
            " assignment_solution_t81_558_class4.ipynb\t t81_559_class_10_5_chat_multimodal.ipynb\n",
            " assignment_solution_t81_558_class5.ipynb\t t81_559_class_11_2_dashboard.ipynb\n",
            " assignment_solution_t81_558_class6.ipynb\t t81_559_class_11_3_code.ipynb\n",
            " assignment_solution_t81_558_class7.ipynb\t transcribe.ipynb\n",
            " assignment_solution_t81_558_class8.ipynb\t Untitled0.ipynb\n",
            " assignment_solution_t81_558_class9.ipynb\t Untitled1.ipynb\n",
            " assignment_solution_t81_559_class1.ipynb\t Untitled2.ipynb\n",
            " assignment_solution_t81_559_class2.ipynb\t Untitled3.ipynb\n",
            " assignment_testit2_class1.ipynb\t\t Untitled4.ipynb\n",
            " assignment_testit_class1.ipynb\t\t\t Untitled5.ipynb\n",
            " assignment_yourname_class2.ipynb\t\t Untitled6.ipynb\n",
            " assignment_yourname_class6.ipynb\t\t'Update of t81_559_class_03_2_text_gen.ipynb'\n",
            " aws.ipynb\t\t\t\t\t update-t81_559_class_03_1_llm.ipynb\n",
            " checkout_assignment_jheaton_class1.ipynb\t voice-bark.ipynb\n",
            " Claude3-Sonnet-Multimodal-Example.ipynb\t wustl_schedule.ipynb\n",
            "'Copy of assignment_jheaton_class1.ipynb'\t w.yongbo-2.ipynb\n",
            "'Copy of t81_559_class_03_1_llm.ipynb'\t\t y.yiding-2.ipynb\n"
          ]
        }
      ],
      "source": [
        "!ls /content/drive/My\\ Drive/Colab\\ Notebooks"
      ]
    },
    {
      "cell_type": "markdown",
      "metadata": {
        "id": "6vA8pJdpZ3tu"
      },
      "source": [
        "# Assignment Submit Function\n",
        "\n",
        "You will submit the ten programming assignments electronically.  The following **submit** function can be used to do this.  My server will perform a basic check of each assignment and let you know if it sees any underlying problems.\n",
        "\n",
        "**It is unlikely that should need to modify this function.**"
      ]
    },
    {
      "cell_type": "code",
      "execution_count": null,
      "metadata": {
        "id": "IhpWWqjYZ3tv"
      },
      "outputs": [],
      "source": [
        "import base64\n",
        "import os\n",
        "import numpy as np\n",
        "import pandas as pd\n",
        "import requests\n",
        "import PIL\n",
        "import PIL.Image\n",
        "import io\n",
        "from typing import List, Union\n",
        "\n",
        "# This function submits an assignment.  You can submit an assignment as much as you like, only the final\n",
        "# submission counts.  The paramaters are as follows:\n",
        "# data - List of pandas dataframes or images.\n",
        "# key - Your student key that was emailed to you.\n",
        "# course - The course that you are in, currently t81-558 or t81-559.\n",
        "# no - The assignment class number, should be 1 through 10.\n",
        "# source_file - The full path to your Python or IPYNB file.  This must have \"_class1\" as part of its name.\n",
        "# .             The number must match your assignment number.  For example \"_class2\" for class assignment #2.\n",
        "\n",
        "def submit(\n",
        "    data: List[Union[pd.DataFrame, PIL.Image.Image]],\n",
        "    key: str,\n",
        "    course: str,\n",
        "    no: int,\n",
        "    source_file: str = None\n",
        ") -> None:\n",
        "    if source_file is None and '__file__' not in globals():\n",
        "        raise Exception(\"Must specify a filename when in a Jupyter notebook.\")\n",
        "    if source_file is None:\n",
        "        source_file = __file__\n",
        "\n",
        "    suffix = f'_class{no}'\n",
        "    if suffix not in source_file:\n",
        "        raise Exception(f\"{suffix} must be part of the filename.\")\n",
        "\n",
        "    ext = os.path.splitext(source_file)[-1].lower()\n",
        "    if ext not in ['.ipynb', '.py']:\n",
        "        raise Exception(f\"Source file is {ext}; must be .py or .ipynb\")\n",
        "\n",
        "    with open(source_file, \"rb\") as file:\n",
        "        encoded_python = base64.b64encode(file.read()).decode('ascii')\n",
        "\n",
        "    payload = []\n",
        "    for item in data:\n",
        "        if isinstance(item, PIL.Image.Image):\n",
        "            buffered = io.BytesIO()\n",
        "            item.save(buffered, format=\"PNG\")\n",
        "            payload.append({'PNG': base64.b64encode(buffered.getvalue()).decode('ascii')})\n",
        "        elif isinstance(item, pd.DataFrame):\n",
        "            payload.append({'CSV': base64.b64encode(item.to_csv(index=False).encode('ascii')).decode(\"ascii\")})\n",
        "        else:\n",
        "            raise ValueError(f\"Unsupported data type: {type(item)}\")\n",
        "\n",
        "    response = requests.post(\n",
        "        \"https://api.heatonresearch.com/wu/submit\",\n",
        "        headers={'x-api-key': key},\n",
        "        json={\n",
        "            'payload': payload,\n",
        "            'assignment': no,\n",
        "            'course': course,\n",
        "            'ext': ext,\n",
        "            'py': encoded_python\n",
        "        }\n",
        "    )\n",
        "\n",
        "    if response.status_code == 200:\n",
        "        print(f\"Success: {response.text}\")\n",
        "    else:\n",
        "        print(f\"Failure: {response.text}\")"
      ]
    },
    {
      "cell_type": "markdown",
      "metadata": {
        "id": "ejz_C1ne0jt1"
      },
      "source": [
        "# Assignment #2 Sample Code\n",
        "\n",
        "For assignment #2 I will give you starting code that renders the wrong sort of image, however, it goes through all the necessary steps. The first step is to develop a prompt, such as:\n",
        "\n",
        "```\n",
        "Write a Python program that draws a 600x600 image, with a 8-pointed white star with a black background, the star should be hollow, with a line-width of 7. Use PIL to render it.\n",
        "```\n",
        "\n",
        "Then use chatgpt-4o-mini to create the code."
      ]
    },
    {
      "cell_type": "code",
      "execution_count": 2,
      "metadata": {
        "id": "qJx4Ficr0jt1"
      },
      "outputs": [],
      "source": [
        "'''Prompt: Write a Python program that draws a 600x600 image, with a 8-pointed\n",
        "white star with a black background, the star should be hollow, with a line-width\n",
        "of 7. Use PIL to render it.\n",
        "'''\n",
        "\n",
        "from PIL import Image, ImageDraw\n",
        "import math\n",
        "\n",
        "# Function to draw an 8-pointed star\n",
        "def draw_star(draw, center, radius, color, line_width):\n",
        "    points = []\n",
        "    for i in range(16):  # 16 points needed for an 8-pointed star\n",
        "        angle = math.pi / 8 * i  # Calculate the angle\n",
        "        r = radius if i % 2 == 0 else radius / 2  # Alternate between outer and inner points\n",
        "        x = center[0] + r * math.cos(angle)\n",
        "        y = center[1] + r * math.sin(angle)\n",
        "        points.append((x, y))\n",
        "\n",
        "    draw.polygon(points, outline=color, width=line_width)\n",
        "\n",
        "# Create a black background image\n",
        "image_size = (600, 600)\n",
        "image = Image.new(\"RGB\", image_size, \"black\")\n",
        "draw = ImageDraw.Draw(image)\n",
        "\n",
        "# Define the star parameters\n",
        "center = (300, 300)\n",
        "radius = 200\n",
        "color = \"white\"\n",
        "line_width = 7\n",
        "\n",
        "# Draw the 8-pointed star\n",
        "draw_star(draw, center, radius, color, line_width)"
      ]
    },
    {
      "cell_type": "markdown",
      "metadata": {
        "id": "4OZE8VXC0jt1"
      },
      "source": [
        "Quick code to render what you drew."
      ]
    },
    {
      "cell_type": "code",
      "execution_count": 3,
      "metadata": {
        "colab": {
          "base_uri": "https://localhost:8080/",
          "height": 406
        },
        "id": "p44RQj1P0jt1",
        "outputId": "9fa82e05-92bd-46ca-e8e2-54a645d5fadb"
      },
      "outputs": [
        {
          "output_type": "display_data",
          "data": {
            "text/plain": [
              "<Figure size 640x480 with 1 Axes>"
            ],
            "image/png": "[encoded data removed]"
          },
          "metadata": {}
        }
      ],
      "source": [
        "import matplotlib.pyplot as plt\n",
        "\n",
        "# Display the image using matplotlib\n",
        "plt.imshow(image)\n",
        "plt.axis('off')  # Hide the axes\n",
        "plt.show()"
      ]
    },
    {
      "cell_type": "code",
      "execution_count": null,
      "metadata": {
        "colab": {
          "base_uri": "https://localhost:8080/"
        },
        "id": "3SFdhnZZ0jt1",
        "outputId": "06d63cfc-b015-431e-c1cd-69cb67e4e11f"
      },
      "outputs": [
        {
          "name": "stdout",
          "output_type": "stream",
          "text": [
            "Success: Submitted Assignment 2 (t81-559) for jtheaton:\n",
            "You have submitted this assignment 7 times. (this is fine)\n",
            "Based on the provided image and code, here's the evaluation of whether the program/image achieved each of the requested items:\n",
            "Item 1: Yes. The image dimensions are set to 640x480 as requested.\n",
            "Item 2: Yes. The code creates 50 horizontal bars that cycle between yellow, purple, and green colors.\n",
            "Item 3: Yes. A white circle is drawn in the center with a diameter of 100 pixels (radius of 50).\n",
            "Item 4: Yes. The code specifically redraws the yellow bars after drawing the white circle, ensuring that only the yellow bars appear in front of the circle while the other colors stop for it.\n",
            "Item 5: Yes. The code includes a comment with a \"Prompt:\" that describes the task for generating this image, which could be used as an LLM prompt to create similar code.\n",
            "You addressed all items (5/5).\n",
            "No warnings or errors (only notes), you will probably do well, but no guarantee. :-)\n"
          ]
        }
      ],
      "source": [
        "# You must identify your source file.  (modify for your local setup)\n",
        "file=\"/content/drive/My Drive/Colab Notebooks/assignment_yourname_t81_559_class2.ipynb\"  # Google CoLab\n",
        "# file='C:\\\\Users\\\\jeffh\\\\projects\\\\t81_559_deep_learning\\\\assignments\\\\assignment_yourname_t81_559_class2.ipynb'  # Windows\n",
        "# file='/Users/jheaton/projects/t81_559_deep_learning/assignments/assignment_yourname_t81_559_class2.ipynb'  # Mac/Linux\n",
        "\n",
        "submit(source_file=file,data=[image],key=key,no=2, course='t81-559')"
      ]
    },
    {
      "cell_type": "code",
      "source": [
        "#!pip install langchain_openai\n",
        "import os\n",
        "os.environ[\"OPENAI_API_KEY\"] = userdata.get('OPENAI_API_KEY')"
      ],
      "metadata": {
        "id": "ts75s_ZjbYcy"
      },
      "execution_count": 10,
      "outputs": []
    },
    {
      "cell_type": "code",
      "source": [
        "from langchain.chains import ConversationChain\n",
        "from langchain.memory import ConversationBufferWindowMemory\n",
        "from langchain_openai import ChatOpenAI\n",
        "from langchain_core.prompts.chat import PromptTemplate\n",
        "from IPython.display import display_markdown\n",
        "\n",
        "MODEL = 'gpt-4o-mini'\n",
        "TEMPLATE = \"\"\"The following is a friendly conversation between a human and an\n",
        "AI to generate Python code. If you have notes about the code, place them before\n",
        "the code. Any nots about execution should follow the code. If you do mix any\n",
        "notes with the code, make them comments. Add proper comments to the code.\n",
        "Sort imports and follow PEP-8 formatting.\n",
        "\n",
        "Current conversation:\n",
        "{history}\n",
        "Human: {input}\n",
        "Code Assistant:\"\"\"\n",
        "PROMPT_TEMPLATE = PromptTemplate(input_variables=[\"history\", \"input\"], template=TEMPLATE)\n",
        "\n",
        "def start_conversation():\n",
        "    # Initialize the OpenAI LLM with your API key\n",
        "    llm = ChatOpenAI(\n",
        "        model=MODEL,\n",
        "        temperature=0.0,\n",
        "        n=1\n",
        "    )\n",
        "\n",
        "    # Initialize memory and conversation\n",
        "    memory = ConversationBufferWindowMemory()\n",
        "    conversation = ConversationChain(\n",
        "        prompt=PROMPT_TEMPLATE,\n",
        "        llm=llm,\n",
        "        memory=memory,\n",
        "        verbose=False\n",
        "    )\n",
        "\n",
        "    return conversation\n",
        "\n",
        "def generate_code(conversation, prompt):\n",
        "    print(\"Model response:\")\n",
        "    output = conversation.invoke(prompt)\n",
        "    display_markdown(output['response'], raw=True)"
      ],
      "metadata": {
        "id": "ItrVE6-_bYkB"
      },
      "execution_count": 11,
      "outputs": []
    },
    {
      "cell_type": "code",
      "source": [
        "conversation = start_conversation()\n",
        "generate_code(conversation,\n",
        "\n",
        "'''Prompt: Write a Python program that draws a 640x451 image, with a background that alternates yellow, purple, and green horizontal stripes. There should be 50 horizontal stripes in total.\n",
        "Then, in the middle of the image, draw a 100x100 white circle.\n",
        "Then, redraw the yellow lines in the same place that they were originally drawn.\n",
        "\n",
        "Call the function draw_image. It should return the image object. Use PIL to render the image.\n",
        "\n",
        "After defining this function, write code to call the function and display the image using matplotlib.pyplot.\n",
        "'''\n",
        ")"
      ],
      "metadata": {
        "id": "I3rrA-txbYqM",
        "outputId": "b74da8f6-2bde-4bef-bf0a-805e14a43fa6",
        "colab": {
          "base_uri": "https://localhost:8080/",
          "height": 971
        }
      },
      "execution_count": 33,
      "outputs": [
        {
          "output_type": "stream",
          "name": "stdout",
          "text": [
            "Model response:\n"
          ]
        },
        {
          "output_type": "display_data",
          "data": {
            "text/markdown": "Here are the notes and the Python code to create the specified image using the PIL library and display it with matplotlib.\n\n### Notes:\n- The program uses the Python Imaging Library (PIL) to create and manipulate the image.\n- The image will have alternating horizontal stripes of yellow, purple, and green.\n- A white circle will be drawn in the center of the image.\n- The yellow stripes will be redrawn on top of the circle.\n- Ensure you have the required libraries installed: `Pillow` for image creation and `matplotlib` for displaying the image.\n\n### Python Code:\n```python\nfrom PIL import Image, ImageDraw\nimport matplotlib.pyplot as plt\n\ndef draw_image():\n    # Create a new image with a white background\n    width, height = 640, 451\n    image = Image.new(\"RGB\", (width, height), \"white\")\n    draw = ImageDraw.Draw(image)\n\n    # Define colors for the stripes\n    colors = [\"yellow\", \"purple\", \"green\"]\n    stripe_height = height // 50  # Calculate the height of each stripe\n\n    # Draw the horizontal stripes\n    for i in range(50):\n        color = colors[i % len(colors)]  # Alternate colors\n        draw.rectangle([0, i * stripe_height, width, (i + 1) * stripe_height], fill=color)\n\n    # Draw a white circle in the middle of the image\n    circle_radius = 50\n    center_x, center_y = width // 2, height // 2\n    draw.ellipse([center_x - circle_radius, center_y - circle_radius,\n                   center_x + circle_radius, center_y + circle_radius], fill=\"white\")\n\n    # Redraw the yellow stripes on top of the circle\n    for i in range(50):\n        if colors[i % len(colors)] == \"yellow\":\n            draw.rectangle([0, i * stripe_height, width, (i + 1) * stripe_height], fill=\"yellow\")\n\n    return image\n\n# Call the function and display the image\nif __name__ == \"__main__\":\n    img = draw_image()\n    plt.imshow(img)\n    plt.axis('off')  # Hide the axis\n    plt.show()  # Display the image\n```\n\n### Execution Notes:\n- To run this code, ensure you have the `Pillow` and `matplotlib` libraries installed. You can install them using pip:\n  ```bash\n  pip install Pillow matplotlib\n  ```\n- The image will be displayed in a window when you run the script. Make sure your environment supports GUI operations for `matplotlib`."
          },
          "metadata": {}
        }
      ]
    },
    {
      "cell_type": "code",
      "source": [
        "from PIL import Image, ImageDraw\n",
        "import matplotlib.pyplot as plt\n",
        "\n",
        "def draw_image():\n",
        "    # Create a new image with a white background\n",
        "    width, height = 640, 451\n",
        "    image = Image.new(\"RGB\", (width, height), \"white\")\n",
        "    draw = ImageDraw.Draw(image)\n",
        "\n",
        "    # Define colors for the stripes\n",
        "    colors = [\"yellow\", \"purple\", \"green\"]\n",
        "    stripe_height = height // 50  # Calculate the height of each stripe\n",
        "\n",
        "    # Draw the horizontal stripes\n",
        "    for i in range(50):\n",
        "        color = colors[i % len(colors)]  # Alternate colors\n",
        "        draw.rectangle([0, i * stripe_height, width, (i + 1) * stripe_height], fill=color)\n",
        "\n",
        "    # Draw a white circle in the middle of the image\n",
        "    circle_radius = 50\n",
        "    center_x, center_y = width // 2, height // 2\n",
        "    draw.ellipse([center_x - circle_radius, center_y - circle_radius,\n",
        "                   center_x + circle_radius, center_y + circle_radius], fill=\"white\")\n",
        "\n",
        "    # Redraw the yellow stripes on top of the circle\n",
        "    for i in range(50):\n",
        "        if colors[i % len(colors)] == \"yellow\":\n",
        "            draw.rectangle([0, i * stripe_height, width, (i + 1) * stripe_height], fill=\"yellow\")\n",
        "\n",
        "    return image\n",
        "\n",
        "# Call the function and display the image\n",
        "if __name__ == \"__main__\":\n",
        "    img = draw_image()\n",
        "    plt.imshow(img)\n",
        "    plt.axis('off')  # Hide the axis\n",
        "    plt.show()  # Display the image"
      ],
      "metadata": {
        "id": "CjOLu8-Bb7uZ",
        "outputId": "a4d58960-9ddb-4319-af2f-1731f65ffae9",
        "colab": {
          "base_uri": "https://localhost:8080/",
          "height": 386
        }
      },
      "execution_count": 34,
      "outputs": [
        {
          "output_type": "display_data",
          "data": {
            "text/plain": [
              "<Figure size 640x480 with 1 Axes>"
            ],
            "image/png": "[encoded data removed]"
          },
          "metadata": {}
        }
      ]
    }
  ],
  "metadata": {
    "anaconda-cloud": {},
    "colab": {
      "provenance": []
    },
    "kernelspec": {
      "display_name": "Python 3 (ipykernel)",
      "language": "python",
      "name": "python3"
    },
    "language_info": {
      "codemirror_mode": {
        "name": "ipython",
        "version": 3
      },
      "file_extension": ".py",
      "mimetype": "text/x-python",
      "name": "python",
      "nbconvert_exporter": "python",
      "pygments_lexer": "ipython3",
      "version": "3.12.6"
    }
  },
  "nbformat": 4,
  "nbformat_minor": 0
}